{
  "nbformat": 4,
  "nbformat_minor": 0,
  "metadata": {
    "colab": {
      "provenance": [],
      "authorship_tag": "ABX9TyMXRTVxeeQuEMgjSF0lhbVC",
      "include_colab_link": true
    },
    "kernelspec": {
      "name": "python3",
      "display_name": "Python 3"
    },
    "language_info": {
      "name": "python"
    }
  },
  "cells": [
    {
      "cell_type": "markdown",
      "metadata": {
        "id": "view-in-github",
        "colab_type": "text"
      },
      "source": [
        "<a href=\"https://colab.research.google.com/github/Chinmay-Soman/Chinmay-Soman/blob/main/Machine_Learning_with_PyTorch.ipynb\" target=\"_parent\"><img src=\"https://colab.research.google.com/assets/colab-badge.svg\" alt=\"Open In Colab\"/></a>"
      ]
    },
    {
      "cell_type": "code",
      "execution_count": 1,
      "metadata": {
        "colab": {
          "base_uri": "https://localhost:8080/"
        },
        "id": "xEB4F2747EWu",
        "outputId": "8e94e10a-9a0a-4ddf-e3da-e08a59213d66"
      },
      "outputs": [
        {
          "output_type": "stream",
          "name": "stdout",
          "text": [
            "Requirement already satisfied: torch in /usr/local/lib/python3.10/dist-packages (2.1.0+cu121)\n",
            "Requirement already satisfied: torchvision in /usr/local/lib/python3.10/dist-packages (0.16.0+cu121)\n",
            "Requirement already satisfied: filelock in /usr/local/lib/python3.10/dist-packages (from torch) (3.13.1)\n",
            "Requirement already satisfied: typing-extensions in /usr/local/lib/python3.10/dist-packages (from torch) (4.5.0)\n",
            "Requirement already satisfied: sympy in /usr/local/lib/python3.10/dist-packages (from torch) (1.12)\n",
            "Requirement already satisfied: networkx in /usr/local/lib/python3.10/dist-packages (from torch) (3.2.1)\n",
            "Requirement already satisfied: jinja2 in /usr/local/lib/python3.10/dist-packages (from torch) (3.1.2)\n",
            "Requirement already satisfied: fsspec in /usr/local/lib/python3.10/dist-packages (from torch) (2023.6.0)\n",
            "Requirement already satisfied: triton==2.1.0 in /usr/local/lib/python3.10/dist-packages (from torch) (2.1.0)\n",
            "Requirement already satisfied: numpy in /usr/local/lib/python3.10/dist-packages (from torchvision) (1.23.5)\n",
            "Requirement already satisfied: requests in /usr/local/lib/python3.10/dist-packages (from torchvision) (2.31.0)\n",
            "Requirement already satisfied: pillow!=8.3.*,>=5.3.0 in /usr/local/lib/python3.10/dist-packages (from torchvision) (9.4.0)\n",
            "Requirement already satisfied: MarkupSafe>=2.0 in /usr/local/lib/python3.10/dist-packages (from jinja2->torch) (2.1.3)\n",
            "Requirement already satisfied: charset-normalizer<4,>=2 in /usr/local/lib/python3.10/dist-packages (from requests->torchvision) (3.3.2)\n",
            "Requirement already satisfied: idna<4,>=2.5 in /usr/local/lib/python3.10/dist-packages (from requests->torchvision) (3.6)\n",
            "Requirement already satisfied: urllib3<3,>=1.21.1 in /usr/local/lib/python3.10/dist-packages (from requests->torchvision) (2.0.7)\n",
            "Requirement already satisfied: certifi>=2017.4.17 in /usr/local/lib/python3.10/dist-packages (from requests->torchvision) (2023.11.17)\n",
            "Requirement already satisfied: mpmath>=0.19 in /usr/local/lib/python3.10/dist-packages (from sympy->torch) (1.3.0)\n"
          ]
        }
      ],
      "source": [
        "pip install torch torchvision"
      ]
    },
    {
      "cell_type": "code",
      "source": [
        "import torch\n",
        "from torch import nn\n",
        "from torch.utils.data import DataLoader\n",
        "from torchvision import datasets\n",
        "from torchvision.transforms import ToTensor"
      ],
      "metadata": {
        "id": "eMukxu0g7UYx"
      },
      "execution_count": 2,
      "outputs": []
    },
    {
      "cell_type": "markdown",
      "source": [
        "Importing Libraries"
      ],
      "metadata": {
        "id": "cv5RFcRk79EN"
      }
    },
    {
      "cell_type": "code",
      "source": [
        "# Download training data from MNIST datasets.\n",
        "training_data = datasets.MNIST(\n",
        "    root=\"data\",\n",
        "    train=True,\n",
        "    download=True,\n",
        "    transform=ToTensor(),\n",
        ")\n",
        "\n",
        "# Download test data from open datasets.\n",
        "test_data = datasets.MNIST(\n",
        "    root=\"data\",\n",
        "    train=False,\n",
        "    download=True,\n",
        "    transform=ToTensor(),\n",
        ")\n",
        "\n",
        "batch_size = 64\n",
        "\n",
        "# Create data loaders to iterate over data\n",
        "train_dataloader = DataLoader(training_data, batch_size=batch_size)\n",
        "test_dataloader = DataLoader(test_data, batch_size=batch_size)\n",
        "\n",
        "print(\"Training data size:\", len(train_dataloader) * batch_size)\n",
        "print(\"Test data size:\", len(test_dataloader) * batch_size)\n",
        "\n",
        "for X, y in test_dataloader:\n",
        "    print(f\"Shape of X [N, C, H, W]: {X.shape}\")\n",
        "    print(f\"Shape of y: {y.shape} {y.dtype}\")\n",
        "    break"
      ],
      "metadata": {
        "colab": {
          "base_uri": "https://localhost:8080/"
        },
        "id": "9AC4I3_S7hTs",
        "outputId": "d235e81e-107d-4c5c-b465-740cc8b7a51f"
      },
      "execution_count": 3,
      "outputs": [
        {
          "output_type": "stream",
          "name": "stdout",
          "text": [
            "Downloading http://yann.lecun.com/exdb/mnist/train-images-idx3-ubyte.gz\n",
            "Downloading http://yann.lecun.com/exdb/mnist/train-images-idx3-ubyte.gz to data/MNIST/raw/train-images-idx3-ubyte.gz\n"
          ]
        },
        {
          "output_type": "stream",
          "name": "stderr",
          "text": [
            "100%|██████████| 9912422/9912422 [00:00<00:00, 87714506.55it/s]\n"
          ]
        },
        {
          "output_type": "stream",
          "name": "stdout",
          "text": [
            "Extracting data/MNIST/raw/train-images-idx3-ubyte.gz to data/MNIST/raw\n",
            "\n",
            "Downloading http://yann.lecun.com/exdb/mnist/train-labels-idx1-ubyte.gz\n",
            "Downloading http://yann.lecun.com/exdb/mnist/train-labels-idx1-ubyte.gz to data/MNIST/raw/train-labels-idx1-ubyte.gz\n"
          ]
        },
        {
          "output_type": "stream",
          "name": "stderr",
          "text": [
            "100%|██████████| 28881/28881 [00:00<00:00, 67185631.63it/s]"
          ]
        },
        {
          "output_type": "stream",
          "name": "stdout",
          "text": [
            "Extracting data/MNIST/raw/train-labels-idx1-ubyte.gz to data/MNIST/raw\n",
            "\n",
            "Downloading http://yann.lecun.com/exdb/mnist/t10k-images-idx3-ubyte.gz\n",
            "Downloading http://yann.lecun.com/exdb/mnist/t10k-images-idx3-ubyte.gz to data/MNIST/raw/t10k-images-idx3-ubyte.gz\n"
          ]
        },
        {
          "output_type": "stream",
          "name": "stderr",
          "text": [
            "\n",
            "100%|██████████| 1648877/1648877 [00:00<00:00, 22015806.67it/s]\n"
          ]
        },
        {
          "output_type": "stream",
          "name": "stdout",
          "text": [
            "Extracting data/MNIST/raw/t10k-images-idx3-ubyte.gz to data/MNIST/raw\n",
            "\n",
            "Downloading http://yann.lecun.com/exdb/mnist/t10k-labels-idx1-ubyte.gz\n",
            "Downloading http://yann.lecun.com/exdb/mnist/t10k-labels-idx1-ubyte.gz to data/MNIST/raw/t10k-labels-idx1-ubyte.gz\n"
          ]
        },
        {
          "output_type": "stream",
          "name": "stderr",
          "text": [
            "100%|██████████| 4542/4542 [00:00<00:00, 10775185.95it/s]"
          ]
        },
        {
          "output_type": "stream",
          "name": "stdout",
          "text": [
            "Extracting data/MNIST/raw/t10k-labels-idx1-ubyte.gz to data/MNIST/raw\n",
            "\n"
          ]
        },
        {
          "output_type": "stream",
          "name": "stderr",
          "text": [
            "\n"
          ]
        },
        {
          "output_type": "stream",
          "name": "stdout",
          "text": [
            "Training data size: 60032\n",
            "Test data size: 10048\n",
            "Shape of X [N, C, H, W]: torch.Size([64, 1, 28, 28])\n",
            "Shape of y: torch.Size([64]) torch.int64\n"
          ]
        }
      ]
    },
    {
      "cell_type": "markdown",
      "source": [
        "Downloading the datasets."
      ],
      "metadata": {
        "id": "zN4SYXDK8C1Y"
      }
    },
    {
      "cell_type": "code",
      "source": [
        "device = torch.device(\n",
        "    \"cuda\" if torch.cuda.is_available()\n",
        "    else \"mps\" if torch.backends.mps.is_available() # Apple Silicon GPU\n",
        "    else \"cpu\"\n",
        ")\n",
        "print(f\"Using {device} device\")"
      ],
      "metadata": {
        "colab": {
          "base_uri": "https://localhost:8080/"
        },
        "id": "YNCNfglW7r2R",
        "outputId": "81bb4686-adaa-478a-ae58-7837972a3fd4"
      },
      "execution_count": 4,
      "outputs": [
        {
          "output_type": "stream",
          "name": "stdout",
          "text": [
            "Using cpu device\n"
          ]
        }
      ]
    },
    {
      "cell_type": "code",
      "source": [
        "class NeuralNetwork(nn.Module):\n",
        "    def __init__(self, input_size, hidden_size, num_classes):\n",
        "        super().__init__()\n",
        "        self.flatten = nn.Flatten()\n",
        "        self.linear_relu_stack = nn.Sequential(\n",
        "            nn.Linear(input_size, hidden_size),\n",
        "            nn.ReLU(),\n",
        "            nn.Linear(hidden_size, hidden_size),\n",
        "            nn.ReLU(),\n",
        "            nn.Linear(hidden_size, num_classes)\n",
        "        )\n",
        "\n",
        "    def forward(self, image_tensor):\n",
        "        image_tensor = self.flatten(image_tensor)\n",
        "        logits = self.linear_relu_stack(image_tensor)\n",
        "        return logits\n",
        "\n",
        "input_size = 28*28\n",
        "hidden_size = 512\n",
        "num_classes = 10\n",
        "\n",
        "model = NeuralNetwork(input_size, hidden_size, num_classes).to(device)\n",
        "print(model)"
      ],
      "metadata": {
        "colab": {
          "base_uri": "https://localhost:8080/"
        },
        "id": "Calmceuw71Is",
        "outputId": "e3669b47-fb4d-47c8-aef9-7514ecbc79c4"
      },
      "execution_count": 5,
      "outputs": [
        {
          "output_type": "stream",
          "name": "stdout",
          "text": [
            "NeuralNetwork(\n",
            "  (flatten): Flatten(start_dim=1, end_dim=-1)\n",
            "  (linear_relu_stack): Sequential(\n",
            "    (0): Linear(in_features=784, out_features=512, bias=True)\n",
            "    (1): ReLU()\n",
            "    (2): Linear(in_features=512, out_features=512, bias=True)\n",
            "    (3): ReLU()\n",
            "    (4): Linear(in_features=512, out_features=10, bias=True)\n",
            "  )\n",
            ")\n"
          ]
        }
      ]
    },
    {
      "cell_type": "markdown",
      "source": [
        "Building a NN model."
      ],
      "metadata": {
        "id": "Gg4567Ux8I8s"
      }
    },
    {
      "cell_type": "code",
      "source": [
        "learning_rate = 1e-3 # 0.001\n",
        "loss_fn = nn.CrossEntropyLoss()\n",
        "optimizer = torch.optim.Adam(model.parameters(), lr=learning_rate)"
      ],
      "metadata": {
        "id": "hLE1htCA8IbF"
      },
      "execution_count": 6,
      "outputs": []
    },
    {
      "cell_type": "markdown",
      "source": [
        "Defining learning model and loss function to make the model more robust and avoid overfitting."
      ],
      "metadata": {
        "id": "2a4YAPC58RMF"
      }
    },
    {
      "cell_type": "code",
      "source": [
        "def train(dataloader, model, loss_fn, optimizer):\n",
        "    size = len(dataloader.dataset)\n",
        "    model.train()\n",
        "\n",
        "    for batch_num, (X, y) in enumerate(dataloader):\n",
        "        X, y = X.to(device), y.to(device)\n",
        "\n",
        "        # Forward pass to compute prediction\n",
        "        pred = model(X)\n",
        "        # Compute prediction error using loss function\n",
        "        loss = loss_fn(pred, y)\n",
        "\n",
        "        # Backward pass\n",
        "        optimizer.zero_grad() # zero any previous gradient calculations\n",
        "        loss.backward() # calculate gradient\n",
        "        optimizer.step() # update model parameters\n",
        "\n",
        "        if batch_num > 0 and batch_num % 100 == 0:\n",
        "            loss, current = loss.item(), batch_num * len(X)\n",
        "            print(f\"loss: {loss:>7f}  [{current:>5d}/{size:>5d}]\")"
      ],
      "metadata": {
        "id": "V4djFgKC75fN"
      },
      "execution_count": 7,
      "outputs": []
    },
    {
      "cell_type": "markdown",
      "source": [
        "Defining training function."
      ],
      "metadata": {
        "id": "OcItXjou8nJn"
      }
    },
    {
      "cell_type": "code",
      "source": [
        "def test(dataloader, model, loss_fn):\n",
        "    size = len(dataloader.dataset)\n",
        "    num_batches = len(dataloader)\n",
        "    model.eval()\n",
        "    test_loss, correct = 0, 0\n",
        "    for X, y in dataloader:\n",
        "        X, y = X.to(device), y.to(device)\n",
        "        pred = model(X)\n",
        "        test_loss += loss_fn(pred, y).item()\n",
        "        correct += (pred.argmax(1) == y).type(torch.float).sum().item()\n",
        "    test_loss /= num_batches\n",
        "    correct /= size\n",
        "    print(f\"Test Error: \\n Accuracy: {(100*correct):>0.1f}%, Avg loss: {test_loss:>8f} \\n\")"
      ],
      "metadata": {
        "id": "PgWAhElr8lSM"
      },
      "execution_count": 9,
      "outputs": []
    },
    {
      "cell_type": "markdown",
      "source": [
        "Testing the model."
      ],
      "metadata": {
        "id": "uzJxifmm85cS"
      }
    },
    {
      "cell_type": "code",
      "source": [
        "epochs = 7\n",
        "for t in range(epochs):\n",
        "    print(f\"Epoch {t+1}\\n-------------------------------\")\n",
        "    train(train_dataloader, model, loss_fn, optimizer)\n",
        "    test(test_dataloader, model, loss_fn)\n",
        "print(\"Done!\")"
      ],
      "metadata": {
        "colab": {
          "base_uri": "https://localhost:8080/"
        },
        "id": "ka2YkSq382AD",
        "outputId": "e350404d-f1ab-45e0-da6a-7ac88eaa14e6"
      },
      "execution_count": 12,
      "outputs": [
        {
          "output_type": "stream",
          "name": "stdout",
          "text": [
            "Epoch 1\n",
            "-------------------------------\n",
            "loss: 0.064952  [ 6400/60000]\n",
            "loss: 0.006271  [12800/60000]\n",
            "loss: 0.040508  [19200/60000]\n",
            "loss: 0.000002  [25600/60000]\n",
            "loss: 0.000087  [32000/60000]\n",
            "loss: 0.002036  [38400/60000]\n",
            "loss: 0.006598  [44800/60000]\n",
            "loss: 0.101805  [51200/60000]\n",
            "loss: 0.016672  [57600/60000]\n",
            "Test Error: \n",
            " Accuracy: 97.9%, Avg loss: 0.160357 \n",
            "\n",
            "Epoch 2\n",
            "-------------------------------\n",
            "loss: 0.000007  [ 6400/60000]\n",
            "loss: 0.000207  [12800/60000]\n",
            "loss: 0.000001  [19200/60000]\n",
            "loss: 0.000000  [25600/60000]\n",
            "loss: 0.004275  [32000/60000]\n",
            "loss: 0.066687  [38400/60000]\n",
            "loss: 0.005695  [44800/60000]\n",
            "loss: 0.000059  [51200/60000]\n",
            "loss: 0.000091  [57600/60000]\n",
            "Test Error: \n",
            " Accuracy: 98.2%, Avg loss: 0.146001 \n",
            "\n",
            "Epoch 3\n",
            "-------------------------------\n",
            "loss: 0.000001  [ 6400/60000]\n",
            "loss: 0.003898  [12800/60000]\n",
            "loss: 0.000003  [19200/60000]\n",
            "loss: 0.000002  [25600/60000]\n",
            "loss: 0.000675  [32000/60000]\n",
            "loss: 0.000998  [38400/60000]\n",
            "loss: 0.000609  [44800/60000]\n",
            "loss: 0.000023  [51200/60000]\n",
            "loss: 0.000004  [57600/60000]\n",
            "Test Error: \n",
            " Accuracy: 98.3%, Avg loss: 0.126463 \n",
            "\n",
            "Epoch 4\n",
            "-------------------------------\n",
            "loss: 0.007577  [ 6400/60000]\n",
            "loss: 0.011692  [12800/60000]\n",
            "loss: 0.003408  [19200/60000]\n",
            "loss: 0.000014  [25600/60000]\n",
            "loss: 0.000029  [32000/60000]\n",
            "loss: 0.000002  [38400/60000]\n",
            "loss: 0.275306  [44800/60000]\n",
            "loss: 0.001143  [51200/60000]\n",
            "loss: 0.000004  [57600/60000]\n",
            "Test Error: \n",
            " Accuracy: 97.8%, Avg loss: 0.166856 \n",
            "\n",
            "Epoch 5\n",
            "-------------------------------\n",
            "loss: 0.000022  [ 6400/60000]\n",
            "loss: 0.000451  [12800/60000]\n",
            "loss: 0.000017  [19200/60000]\n",
            "loss: 0.000054  [25600/60000]\n",
            "loss: 0.000898  [32000/60000]\n",
            "loss: 0.000001  [38400/60000]\n",
            "loss: 0.001616  [44800/60000]\n",
            "loss: 0.000001  [51200/60000]\n",
            "loss: 0.000054  [57600/60000]\n",
            "Test Error: \n",
            " Accuracy: 98.2%, Avg loss: 0.156091 \n",
            "\n",
            "Epoch 6\n",
            "-------------------------------\n",
            "loss: 0.008762  [ 6400/60000]\n",
            "loss: 0.078577  [12800/60000]\n",
            "loss: 0.005550  [19200/60000]\n",
            "loss: 0.043663  [25600/60000]\n",
            "loss: 0.000006  [32000/60000]\n",
            "loss: 0.000008  [38400/60000]\n",
            "loss: 0.025095  [44800/60000]\n",
            "loss: 0.023684  [51200/60000]\n",
            "loss: 0.000005  [57600/60000]\n",
            "Test Error: \n",
            " Accuracy: 98.0%, Avg loss: 0.174311 \n",
            "\n",
            "Epoch 7\n",
            "-------------------------------\n",
            "loss: 0.000001  [ 6400/60000]\n",
            "loss: 0.000047  [12800/60000]\n",
            "loss: 0.000008  [19200/60000]\n",
            "loss: 0.000023  [25600/60000]\n",
            "loss: 0.000012  [32000/60000]\n",
            "loss: 0.000003  [38400/60000]\n",
            "loss: 0.000145  [44800/60000]\n",
            "loss: 0.000005  [51200/60000]\n",
            "loss: 0.001006  [57600/60000]\n",
            "Test Error: \n",
            " Accuracy: 98.0%, Avg loss: 0.166074 \n",
            "\n",
            "Done!\n"
          ]
        }
      ]
    },
    {
      "cell_type": "markdown",
      "source": [
        "Mentioning optimum no. of epochs to prevent overfitting and under fitting."
      ],
      "metadata": {
        "id": "1F3fQ5GF_yS3"
      }
    },
    {
      "cell_type": "code",
      "source": [
        "torch.save(model.state_dict(), \"ml_with_pytorch_model.pth\")\n",
        "print(\"Saved PyTorch Model State to ml_with_pytorch_model.pth\")\n"
      ],
      "metadata": {
        "colab": {
          "base_uri": "https://localhost:8080/"
        },
        "id": "UDe2ZciX_vrr",
        "outputId": "81e5ffe7-c459-4af2-872f-fc045b4cc637"
      },
      "execution_count": 13,
      "outputs": [
        {
          "output_type": "stream",
          "name": "stdout",
          "text": [
            "Saved PyTorch Model State to ml_with_pytorch_model.pth\n"
          ]
        }
      ]
    },
    {
      "cell_type": "markdown",
      "source": [
        "Saving model parameters."
      ],
      "metadata": {
        "id": "GPLRcGkHAcza"
      }
    },
    {
      "cell_type": "code",
      "source": [
        "model = NeuralNetwork(input_size, hidden_size, num_classes).to(device)\n",
        "model.load_state_dict(torch.load(\"ml_with_pytorch_model.pth\"))"
      ],
      "metadata": {
        "colab": {
          "base_uri": "https://localhost:8080/"
        },
        "id": "PafiCSPDAhOK",
        "outputId": "8355c510-5ee5-4a4c-c980-6fdb2527c17b"
      },
      "execution_count": 14,
      "outputs": [
        {
          "output_type": "execute_result",
          "data": {
            "text/plain": [
              "<All keys matched successfully>"
            ]
          },
          "metadata": {},
          "execution_count": 14
        }
      ]
    },
    {
      "cell_type": "markdown",
      "source": [
        "Loading parameters."
      ],
      "metadata": {
        "id": "pefgamR_Aqzu"
      }
    },
    {
      "cell_type": "code",
      "source": [
        "model.eval()\n",
        "for i in range(10):\n",
        "    x, y = test_data[i][0], test_data[i][1]\n",
        "\n",
        "    x = x.to(device)\n",
        "    pred = model(x)\n",
        "    predicted, actual = pred[0].argmax(0).item(), y\n",
        "    print(f'Predicted: \"{predicted}\", Actual: \"{actual}\"')"
      ],
      "metadata": {
        "colab": {
          "base_uri": "https://localhost:8080/"
        },
        "id": "RyS21xj7Ap2l",
        "outputId": "bf7555f9-3cab-4074-b2ed-b467d47ce8c5"
      },
      "execution_count": 15,
      "outputs": [
        {
          "output_type": "stream",
          "name": "stdout",
          "text": [
            "Predicted: \"7\", Actual: \"7\"\n",
            "Predicted: \"2\", Actual: \"2\"\n",
            "Predicted: \"1\", Actual: \"1\"\n",
            "Predicted: \"0\", Actual: \"0\"\n",
            "Predicted: \"4\", Actual: \"4\"\n",
            "Predicted: \"1\", Actual: \"1\"\n",
            "Predicted: \"4\", Actual: \"4\"\n",
            "Predicted: \"9\", Actual: \"9\"\n",
            "Predicted: \"5\", Actual: \"5\"\n",
            "Predicted: \"9\", Actual: \"9\"\n"
          ]
        }
      ]
    },
    {
      "cell_type": "code",
      "source": [
        "Made Predictions."
      ],
      "metadata": {
        "id": "xjjwMBCNAwM-"
      },
      "execution_count": null,
      "outputs": []
    }
  ]
}